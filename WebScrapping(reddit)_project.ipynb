{
  "nbformat": 4,
  "nbformat_minor": 0,
  "metadata": {
    "colab": {
      "name": "WebScrapping(reddit) - project.ipynb",
      "provenance": [],
      "collapsed_sections": [
        "eQzP-7lX8nia"
      ],
      "authorship_tag": "ABX9TyMytMGfMEO86H9ial0afW78",
      "include_colab_link": true
    },
    "kernelspec": {
      "name": "python3",
      "display_name": "Python 3"
    },
    "language_info": {
      "name": "python"
    }
  },
  "cells": [
    {
      "cell_type": "markdown",
      "metadata": {
        "id": "view-in-github",
        "colab_type": "text"
      },
      "source": [
        "<a href=\"https://colab.research.google.com/github/IamHassanAb/WebScraping-Reddit-old-Python/blob/main/WebScrapping(reddit)_project.ipynb\" target=\"_parent\"><img src=\"https://colab.research.google.com/assets/colab-badge.svg\" alt=\"Open In Colab\"/></a>"
      ]
    },
    {
      "cell_type": "code",
      "metadata": {
        "colab": {
          "base_uri": "https://localhost:8080/"
        },
        "id": "OGEBKBNnz-eY",
        "outputId": "a711c189-0ecb-4fe5-aea9-77509ee5e310"
      },
      "source": [
        "!pip install requests\n",
        "!pip install beautifulsoup4"
      ],
      "execution_count": null,
      "outputs": [
        {
          "output_type": "stream",
          "text": [
            "Requirement already satisfied: requests in /usr/local/lib/python3.7/dist-packages (2.23.0)\n",
            "Requirement already satisfied: idna<3,>=2.5 in /usr/local/lib/python3.7/dist-packages (from requests) (2.10)\n",
            "Requirement already satisfied: urllib3!=1.25.0,!=1.25.1,<1.26,>=1.21.1 in /usr/local/lib/python3.7/dist-packages (from requests) (1.24.3)\n",
            "Requirement already satisfied: certifi>=2017.4.17 in /usr/local/lib/python3.7/dist-packages (from requests) (2021.5.30)\n",
            "Requirement already satisfied: chardet<4,>=3.0.2 in /usr/local/lib/python3.7/dist-packages (from requests) (3.0.4)\n",
            "Requirement already satisfied: beautifulsoup4 in /usr/local/lib/python3.7/dist-packages (4.6.3)\n"
          ],
          "name": "stdout"
        }
      ]
    },
    {
      "cell_type": "code",
      "metadata": {
        "id": "qsWlIV6m0n78"
      },
      "source": [
        "import requests\n",
        "import csv\n",
        "import time\n",
        "from bs4 import BeautifulSoup as soup\n",
        "import numpy as np\n",
        "import pandas as pd\n",
        "import matplotlib.pyplot as plt"
      ],
      "execution_count": 3,
      "outputs": []
    },
    {
      "cell_type": "markdown",
      "metadata": {
        "id": "eQzP-7lX8nia"
      },
      "source": [
        "###The Real Project"
      ]
    },
    {
      "cell_type": "code",
      "metadata": {
        "id": "nMhzGdXV1A0L"
      },
      "source": [
        "url = \"https://old.reddit.com/r/webdev/\"\n",
        "# Headers to mimic a browser visit\n",
        "headers = {'User-Agent': 'Mozilla/5.0'}\n",
        "\n",
        "# Returns a requests.models.Response object\n",
        "page_html = requests.get(url, headers=headers)"
      ],
      "execution_count": 4,
      "outputs": []
    },
    {
      "cell_type": "code",
      "metadata": {
        "id": "wEqx29S22ZsN"
      },
      "source": [
        "page_soup = soup(page_html.content, 'html.parser')\n",
        "page_soup"
      ],
      "execution_count": null,
      "outputs": []
    },
    {
      "cell_type": "code",
      "metadata": {
        "id": "RraK2nGX2-kb"
      },
      "source": [
        "# domains = page_soup.find_all(\"span\", class_=\"domain\")\n",
        "# for domain in domains:\n",
        "#   if domain.text != '(self.webdev)':\n",
        "#     continue\n",
        "#   print(domain.text)"
      ],
      "execution_count": 6,
      "outputs": []
    },
    {
      "cell_type": "code",
      "metadata": {
        "id": "Ya7cznu_3f8b"
      },
      "source": [
        "# #iterating through the list of domains obtained\n",
        "\n",
        "# for domain in domains:\n",
        "#   if domain.text != '(self.webdev)':\n",
        "#     continue\n",
        "#   parent_div = domain.parent.parent.parent.parent\n",
        "#   print(parent_div.text)"
      ],
      "execution_count": 7,
      "outputs": []
    },
    {
      "cell_type": "code",
      "metadata": {
        "id": "IFEOXvOj9umW"
      },
      "source": [
        "counter = 1\n",
        "att = {'class': 'thing', 'data-domain': 'self.webdev'}\n",
        "posts = page_soup.find_all('div', attrs=att)\n",
        "while (counter <= 100):\n",
        "  for post in posts:\n",
        "    title = post.find('p', class_=\"title\").text\n",
        "    author = post.find('a', class_='author').text\n",
        "    likes = post.find(\"div\", attrs={\"class\": \"score likes\"}).text\n",
        "    comments = post.find('a', class_='comments').text.split()[0]\n",
        "    if comments == 'comment':\n",
        "      comments = 0\n",
        "    if likes == \"•\":\n",
        "      likes = \"None\"\n",
        "    post_line = [counter, title, author, likes, comments]\n",
        "    with open('output.csv', 'a') as f:\n",
        "        writer = csv.writer(f)\n",
        "        writer.writerow(post_line)\n",
        "    \n",
        "    counter += 1\n",
        "\n",
        "  next_button = page_soup.find(\"span\", class_=\"next-button\")\n",
        "  next_page_link = next_button.find(\"a\").attrs['href']\n",
        "  time.sleep(2)\n",
        "  page_html = requests.get(next_page_link, headers=headers)\n",
        "  page_soup = soup(page_html.content, 'html.parser')\n",
        "  posts = page_soup.find_all('div', attrs=att)"
      ],
      "execution_count": 8,
      "outputs": []
    },
    {
      "cell_type": "markdown",
      "metadata": {
        "id": "VX7JpXKW80pH"
      },
      "source": [
        "###Data Analysis"
      ]
    },
    {
      "cell_type": "code",
      "metadata": {
        "colab": {
          "base_uri": "https://localhost:8080/",
          "height": 49
        },
        "id": "EK-ArHjmHRj9",
        "outputId": "7ad40d11-a631-484b-c628-c996263aa8fa"
      },
      "source": [
        "path = '/content/output.csv'\n",
        "df = pd.read_csv(path)\n",
        "df.head(10)\n",
        "df = df.drop_duplicates(keep='last')\n",
        "df[df.duplicated()]"
      ],
      "execution_count": 9,
      "outputs": [
        {
          "output_type": "execute_result",
          "data": {
            "text/html": [
              "<div>\n",
              "<style scoped>\n",
              "    .dataframe tbody tr th:only-of-type {\n",
              "        vertical-align: middle;\n",
              "    }\n",
              "\n",
              "    .dataframe tbody tr th {\n",
              "        vertical-align: top;\n",
              "    }\n",
              "\n",
              "    .dataframe thead th {\n",
              "        text-align: right;\n",
              "    }\n",
              "</style>\n",
              "<table border=\"1\" class=\"dataframe\">\n",
              "  <thead>\n",
              "    <tr style=\"text-align: right;\">\n",
              "      <th></th>\n",
              "      <th>1</th>\n",
              "      <th>Monthly Getting Started / Web Dev Career ThreadMonthly Career Thread (self.webdev)</th>\n",
              "      <th>AutoModerator</th>\n",
              "      <th>79</th>\n",
              "      <th>270</th>\n",
              "    </tr>\n",
              "  </thead>\n",
              "  <tbody>\n",
              "  </tbody>\n",
              "</table>\n",
              "</div>"
            ],
            "text/plain": [
              "Empty DataFrame\n",
              "Columns: [1, Monthly Getting Started / Web Dev Career ThreadMonthly Career Thread (self.webdev), AutoModerator, 79, 270]\n",
              "Index: []"
            ]
          },
          "metadata": {},
          "execution_count": 9
        }
      ]
    },
    {
      "cell_type": "code",
      "metadata": {
        "id": "vvWDWNntCRiS"
      },
      "source": [
        "df = df.drop(columns=['1'])"
      ],
      "execution_count": 10,
      "outputs": []
    },
    {
      "cell_type": "code",
      "metadata": {
        "colab": {
          "base_uri": "https://localhost:8080/",
          "height": 424
        },
        "id": "fsBTWzXE-NG6",
        "outputId": "13275e93-e878-4bfc-8ce7-1d00207ca4cf"
      },
      "source": [
        "col_names = ['Title', 'Author', 'Likes', 'Comments']\n",
        "df.columns = col_names\n",
        "df"
      ],
      "execution_count": 11,
      "outputs": [
        {
          "output_type": "execute_result",
          "data": {
            "text/html": [
              "<div>\n",
              "<style scoped>\n",
              "    .dataframe tbody tr th:only-of-type {\n",
              "        vertical-align: middle;\n",
              "    }\n",
              "\n",
              "    .dataframe tbody tr th {\n",
              "        vertical-align: top;\n",
              "    }\n",
              "\n",
              "    .dataframe thead th {\n",
              "        text-align: right;\n",
              "    }\n",
              "</style>\n",
              "<table border=\"1\" class=\"dataframe\">\n",
              "  <thead>\n",
              "    <tr style=\"text-align: right;\">\n",
              "      <th></th>\n",
              "      <th>Title</th>\n",
              "      <th>Author</th>\n",
              "      <th>Likes</th>\n",
              "      <th>Comments</th>\n",
              "    </tr>\n",
              "  </thead>\n",
              "  <tbody>\n",
              "    <tr>\n",
              "      <th>0</th>\n",
              "      <td>Monthly Getting Started / Web Dev Career Threa...</td>\n",
              "      <td>AutoModerator</td>\n",
              "      <td>5</td>\n",
              "      <td>9</td>\n",
              "    </tr>\n",
              "    <tr>\n",
              "      <th>1</th>\n",
              "      <td>Web Development is so forgiving (self.webdev)</td>\n",
              "      <td>PepeKepler</td>\n",
              "      <td>535</td>\n",
              "      <td>84</td>\n",
              "    </tr>\n",
              "    <tr>\n",
              "      <th>2</th>\n",
              "      <td>Is PHP outdated?Discussion (self.webdev)</td>\n",
              "      <td>The_Callattar</td>\n",
              "      <td>409</td>\n",
              "      <td>648</td>\n",
              "    </tr>\n",
              "    <tr>\n",
              "      <th>3</th>\n",
              "      <td>How does figma help developers?Question (self....</td>\n",
              "      <td>quarius12</td>\n",
              "      <td>23</td>\n",
              "      <td>20</td>\n",
              "    </tr>\n",
              "    <tr>\n",
              "      <th>4</th>\n",
              "      <td>What are the benefits of using Prisma over Mon...</td>\n",
              "      <td>lumenwrites</td>\n",
              "      <td>3</td>\n",
              "      <td>1</td>\n",
              "    </tr>\n",
              "    <tr>\n",
              "      <th>...</th>\n",
              "      <td>...</td>\n",
              "      <td>...</td>\n",
              "      <td>...</td>\n",
              "      <td>...</td>\n",
              "    </tr>\n",
              "    <tr>\n",
              "      <th>104</th>\n",
              "      <td>Are there any communities/subreddits to get he...</td>\n",
              "      <td>ReasonCharacter2052</td>\n",
              "      <td>1</td>\n",
              "      <td>4</td>\n",
              "    </tr>\n",
              "    <tr>\n",
              "      <th>105</th>\n",
              "      <td>Most popular backend frameworksQuestion (self....</td>\n",
              "      <td>melvingm101</td>\n",
              "      <td>4</td>\n",
              "      <td>17</td>\n",
              "    </tr>\n",
              "    <tr>\n",
              "      <th>106</th>\n",
              "      <td>Does the user see the curl request I made in p...</td>\n",
              "      <td>bububeti</td>\n",
              "      <td>6</td>\n",
              "      <td>7</td>\n",
              "    </tr>\n",
              "    <tr>\n",
              "      <th>107</th>\n",
              "      <td>Why am I getting this \"linting\" warning from t...</td>\n",
              "      <td>Taro_Naza</td>\n",
              "      <td>1</td>\n",
              "      <td>12</td>\n",
              "    </tr>\n",
              "    <tr>\n",
              "      <th>108</th>\n",
              "      <td>Can I redirect an A Record to another server? ...</td>\n",
              "      <td>cantaffordretail</td>\n",
              "      <td>3</td>\n",
              "      <td>5</td>\n",
              "    </tr>\n",
              "  </tbody>\n",
              "</table>\n",
              "<p>109 rows × 4 columns</p>\n",
              "</div>"
            ],
            "text/plain": [
              "                                                 Title  ... Comments\n",
              "0    Monthly Getting Started / Web Dev Career Threa...  ...        9\n",
              "1        Web Development is so forgiving (self.webdev)  ...       84\n",
              "2             Is PHP outdated?Discussion (self.webdev)  ...      648\n",
              "3    How does figma help developers?Question (self....  ...       20\n",
              "4    What are the benefits of using Prisma over Mon...  ...        1\n",
              "..                                                 ...  ...      ...\n",
              "104  Are there any communities/subreddits to get he...  ...        4\n",
              "105  Most popular backend frameworksQuestion (self....  ...       17\n",
              "106  Does the user see the curl request I made in p...  ...        7\n",
              "107  Why am I getting this \"linting\" warning from t...  ...       12\n",
              "108  Can I redirect an A Record to another server? ...  ...        5\n",
              "\n",
              "[109 rows x 4 columns]"
            ]
          },
          "metadata": {},
          "execution_count": 11
        }
      ]
    },
    {
      "cell_type": "code",
      "metadata": {
        "colab": {
          "base_uri": "https://localhost:8080/",
          "height": 362
        },
        "id": "GT4unbyGrscW",
        "outputId": "aba75770-931f-46ca-830f-64410480aa38"
      },
      "source": [
        "df[:10]"
      ],
      "execution_count": 12,
      "outputs": [
        {
          "output_type": "execute_result",
          "data": {
            "text/html": [
              "<div>\n",
              "<style scoped>\n",
              "    .dataframe tbody tr th:only-of-type {\n",
              "        vertical-align: middle;\n",
              "    }\n",
              "\n",
              "    .dataframe tbody tr th {\n",
              "        vertical-align: top;\n",
              "    }\n",
              "\n",
              "    .dataframe thead th {\n",
              "        text-align: right;\n",
              "    }\n",
              "</style>\n",
              "<table border=\"1\" class=\"dataframe\">\n",
              "  <thead>\n",
              "    <tr style=\"text-align: right;\">\n",
              "      <th></th>\n",
              "      <th>Title</th>\n",
              "      <th>Author</th>\n",
              "      <th>Likes</th>\n",
              "      <th>Comments</th>\n",
              "    </tr>\n",
              "  </thead>\n",
              "  <tbody>\n",
              "    <tr>\n",
              "      <th>0</th>\n",
              "      <td>Monthly Getting Started / Web Dev Career Threa...</td>\n",
              "      <td>AutoModerator</td>\n",
              "      <td>5</td>\n",
              "      <td>9</td>\n",
              "    </tr>\n",
              "    <tr>\n",
              "      <th>1</th>\n",
              "      <td>Web Development is so forgiving (self.webdev)</td>\n",
              "      <td>PepeKepler</td>\n",
              "      <td>535</td>\n",
              "      <td>84</td>\n",
              "    </tr>\n",
              "    <tr>\n",
              "      <th>2</th>\n",
              "      <td>Is PHP outdated?Discussion (self.webdev)</td>\n",
              "      <td>The_Callattar</td>\n",
              "      <td>409</td>\n",
              "      <td>648</td>\n",
              "    </tr>\n",
              "    <tr>\n",
              "      <th>3</th>\n",
              "      <td>How does figma help developers?Question (self....</td>\n",
              "      <td>quarius12</td>\n",
              "      <td>23</td>\n",
              "      <td>20</td>\n",
              "    </tr>\n",
              "    <tr>\n",
              "      <th>4</th>\n",
              "      <td>What are the benefits of using Prisma over Mon...</td>\n",
              "      <td>lumenwrites</td>\n",
              "      <td>3</td>\n",
              "      <td>1</td>\n",
              "    </tr>\n",
              "    <tr>\n",
              "      <th>5</th>\n",
              "      <td>Webdev communities to follow?Question (self.we...</td>\n",
              "      <td>el_diego</td>\n",
              "      <td>5</td>\n",
              "      <td>0</td>\n",
              "    </tr>\n",
              "    <tr>\n",
              "      <th>6</th>\n",
              "      <td>A little lost in how to link Next, Apollo Serv...</td>\n",
              "      <td>werdnaegni</td>\n",
              "      <td>4</td>\n",
              "      <td>4</td>\n",
              "    </tr>\n",
              "    <tr>\n",
              "      <th>7</th>\n",
              "      <td>Trying to run external code via html in a site...</td>\n",
              "      <td>JamesTDG</td>\n",
              "      <td>None</td>\n",
              "      <td>2</td>\n",
              "    </tr>\n",
              "    <tr>\n",
              "      <th>8</th>\n",
              "      <td>Advice for a beginner:) (self.webdev)</td>\n",
              "      <td>alexebmeier</td>\n",
              "      <td>3</td>\n",
              "      <td>1</td>\n",
              "    </tr>\n",
              "    <tr>\n",
              "      <th>9</th>\n",
              "      <td>GET vs POSTQuestion (self.webdev)</td>\n",
              "      <td>Lightisicus</td>\n",
              "      <td>3</td>\n",
              "      <td>7</td>\n",
              "    </tr>\n",
              "  </tbody>\n",
              "</table>\n",
              "</div>"
            ],
            "text/plain": [
              "                                               Title  ... Comments\n",
              "0  Monthly Getting Started / Web Dev Career Threa...  ...        9\n",
              "1      Web Development is so forgiving (self.webdev)  ...       84\n",
              "2           Is PHP outdated?Discussion (self.webdev)  ...      648\n",
              "3  How does figma help developers?Question (self....  ...       20\n",
              "4  What are the benefits of using Prisma over Mon...  ...        1\n",
              "5  Webdev communities to follow?Question (self.we...  ...        0\n",
              "6  A little lost in how to link Next, Apollo Serv...  ...        4\n",
              "7  Trying to run external code via html in a site...  ...        2\n",
              "8              Advice for a beginner:) (self.webdev)  ...        1\n",
              "9                  GET vs POSTQuestion (self.webdev)  ...        7\n",
              "\n",
              "[10 rows x 4 columns]"
            ]
          },
          "metadata": {},
          "execution_count": 12
        }
      ]
    },
    {
      "cell_type": "code",
      "metadata": {
        "colab": {
          "base_uri": "https://localhost:8080/",
          "height": 1000
        },
        "id": "U02gNfGzpOeZ",
        "outputId": "5fa13651-dd38-44ef-c4cb-0ace2e14c83f"
      },
      "source": [
        "plt.subplots(figsize=(15,15))\n",
        "plt.bar(df[:10]['Title'],df[:10]['Comments'])\n",
        "labels = df[:10]['Title'].tolist()\n",
        "plt.xticks(range(10),[textwrap.fill(label, 10) for label in labels], fontsize=15, horizontalalignment=\"center\")\n",
        "plt.tight_layout()\n",
        "plt.tick_params(axis='x', pad=6) "
      ],
      "execution_count": 38,
      "outputs": [
        {
          "output_type": "display_data",
          "data": {
            "image/png": "[encoded data removed]",
            "text/plain": [
              "<Figure size 1080x1080 with 1 Axes>"
            ]
          },
          "metadata": {
            "needs_background": "light"
          }
        }
      ]
    }
  ]
}